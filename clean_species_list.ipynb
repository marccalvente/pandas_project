{
 "cells": [
  {
   "cell_type": "code",
   "execution_count": 1,
   "id": "a4a96ff6",
   "metadata": {},
   "outputs": [],
   "source": [
    "import numpy as np\n",
    "import pandas as pd\n",
    "import pickle"
   ]
  },
  {
   "cell_type": "code",
   "execution_count": 2,
   "id": "437e39d1",
   "metadata": {
    "scrolled": true
   },
   "outputs": [],
   "source": [
    "species_list = pd.read_csv(\"./data/shark_species.csv\")"
   ]
  },
  {
   "cell_type": "code",
   "execution_count": 3,
   "id": "9617675e",
   "metadata": {},
   "outputs": [
    {
     "data": {
      "text/plain": [
       "0               African angelshark\n",
       "1           African dwarf sawshark\n",
       "2            African frilled shark\n",
       "3             African lanternshark\n",
       "4      African ribbontail catshark\n",
       "                  ...             \n",
       "664                       catshark\n",
       "665                     sand shark\n",
       "666                   gaffed shark\n",
       "667                   carpet shark\n",
       "668               shovelnose shark\n",
       "Name: Species_list, Length: 669, dtype: object"
      ]
     },
     "execution_count": 3,
     "metadata": {},
     "output_type": "execute_result"
    }
   ],
   "source": [
    "species_list[\"Species_list\"]"
   ]
  },
  {
   "cell_type": "code",
   "execution_count": 4,
   "id": "cc3b8225",
   "metadata": {},
   "outputs": [],
   "source": [
    "species_list[\"Species_list\"] = species_list[\"Species_list\"].apply(lambda shark: np.nan if len(shark)<2 else shark)"
   ]
  },
  {
   "cell_type": "code",
   "execution_count": 5,
   "id": "0b4f5d7a",
   "metadata": {},
   "outputs": [],
   "source": [
    "species_list.dropna(inplace=True)"
   ]
  },
  {
   "cell_type": "code",
   "execution_count": 6,
   "id": "dda6f3a1",
   "metadata": {},
   "outputs": [],
   "source": [
    "species_list[\"Species_list\"] = species_list[\"Species_list\"].apply(lambda string: string if pd.isnull(string) else string.strip().lower())"
   ]
  },
  {
   "cell_type": "code",
   "execution_count": 7,
   "id": "69ce640e",
   "metadata": {},
   "outputs": [],
   "source": [
    "species_without_shark = [shark.split(\" shark\")[0] for shark in species_list[\"Species_list\"] if len(shark.split(\" shark\")) > 1]\n",
    "species_without_shark_series = pd.Series(species_without_shark, name=\"Species_list\")\n",
    "shark_dict = {shark.split(\" shark\")[0]:shark for shark in species_list[\"Species_list\"] if len(shark.split(\" shark\")) > 1}\n",
    "shark_dict[\"7-gill\"] = \"sevengill shark\"\n",
    "shark_dict[\"7-gill shark\"] = \"sevengill shark\"\n",
    "shark_dict[\"seven-gill\"] = \"sevengill shark\"\n",
    "shark_dict[\"zambesi\"] = \"bull shark\"\n",
    "shark_dict[\"zambesi shark\"] = \"bull shark\""
   ]
  },
  {
   "cell_type": "code",
   "execution_count": 8,
   "id": "e84abc7c",
   "metadata": {},
   "outputs": [],
   "source": [
    "with open('./data/shark_dict.pickle', 'wb') as handle:\n",
    "    pickle.dump(shark_dict, handle, protocol=pickle.HIGHEST_PROTOCOL)"
   ]
  },
  {
   "cell_type": "code",
   "execution_count": 9,
   "id": "648ed851",
   "metadata": {},
   "outputs": [],
   "source": [
    "all_species = pd.concat([species_list[\"Species_list\"], species_without_shark_series], ignore_index=True)"
   ]
  },
  {
   "cell_type": "code",
   "execution_count": 10,
   "id": "270e5e0c",
   "metadata": {},
   "outputs": [],
   "source": [
    "species_list = pd.DataFrame(data=all_species, columns = [\"Species_list\"])"
   ]
  },
  {
   "cell_type": "code",
   "execution_count": 11,
   "id": "b9ef1021",
   "metadata": {},
   "outputs": [],
   "source": [
    "species_list[\"Species_list\"].drop_duplicates(inplace=True)"
   ]
  },
  {
   "cell_type": "code",
   "execution_count": 13,
   "id": "aa25279e",
   "metadata": {},
   "outputs": [],
   "source": [
    "species_list.to_csv(\"./data/shark_species_clean.csv\", index=False)"
   ]
  }
 ],
 "metadata": {
  "kernelspec": {
   "display_name": "Python 3 (ipykernel)",
   "language": "python",
   "name": "python3"
  },
  "language_info": {
   "codemirror_mode": {
    "name": "ipython",
    "version": 3
   },
   "file_extension": ".py",
   "mimetype": "text/x-python",
   "name": "python",
   "nbconvert_exporter": "python",
   "pygments_lexer": "ipython3",
   "version": "3.9.13"
  }
 },
 "nbformat": 4,
 "nbformat_minor": 5
}
