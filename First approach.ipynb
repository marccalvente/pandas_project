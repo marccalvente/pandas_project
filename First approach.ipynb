{
 "cells": [
  {
   "cell_type": "code",
   "execution_count": 1,
   "id": "69f7f477",
   "metadata": {},
   "outputs": [],
   "source": [
    "import numpy as np\n",
    "import pandas as pd\n",
    "import matplotlib.pyplot as plt\n",
    "import seaborn as sns\n",
    "import pickle\n",
    "import re"
   ]
  },
  {
   "cell_type": "code",
   "execution_count": 2,
   "id": "7220771d",
   "metadata": {},
   "outputs": [],
   "source": [
    "sharks_df = pd.read_csv(\"./data/attacks.csv\", encoding='windows-1252')"
   ]
  },
  {
   "cell_type": "code",
   "execution_count": 33,
   "id": "c90f95c1",
   "metadata": {
    "scrolled": false
   },
   "outputs": [
    {
     "data": {
      "text/html": [
       "<div>\n",
       "<style scoped>\n",
       "    .dataframe tbody tr th:only-of-type {\n",
       "        vertical-align: middle;\n",
       "    }\n",
       "\n",
       "    .dataframe tbody tr th {\n",
       "        vertical-align: top;\n",
       "    }\n",
       "\n",
       "    .dataframe thead th {\n",
       "        text-align: right;\n",
       "    }\n",
       "</style>\n",
       "<table border=\"1\" class=\"dataframe\">\n",
       "  <thead>\n",
       "    <tr style=\"text-align: right;\">\n",
       "      <th></th>\n",
       "      <th>Case Number</th>\n",
       "      <th>Date</th>\n",
       "      <th>Year</th>\n",
       "      <th>Type</th>\n",
       "      <th>Country</th>\n",
       "      <th>Area</th>\n",
       "      <th>Location</th>\n",
       "      <th>Activity</th>\n",
       "      <th>Name</th>\n",
       "      <th>Sex</th>\n",
       "      <th>Age</th>\n",
       "      <th>Injury</th>\n",
       "      <th>Fatal (Y/N)</th>\n",
       "      <th>Time</th>\n",
       "      <th>Species</th>\n",
       "      <th>Year_extracted</th>\n",
       "      <th>Month_extracted</th>\n",
       "    </tr>\n",
       "  </thead>\n",
       "  <tbody>\n",
       "    <tr>\n",
       "      <th>0</th>\n",
       "      <td>2018.06.25</td>\n",
       "      <td>25-Jun-2018</td>\n",
       "      <td>2018.0</td>\n",
       "      <td>Boating</td>\n",
       "      <td>USA</td>\n",
       "      <td>California</td>\n",
       "      <td>Oceanside, San Diego County</td>\n",
       "      <td>Paddling</td>\n",
       "      <td>Julie Wolfe</td>\n",
       "      <td>F</td>\n",
       "      <td>57</td>\n",
       "      <td>No injury to occupant, outrigger canoe and pad...</td>\n",
       "      <td>N</td>\n",
       "      <td>18h00</td>\n",
       "      <td>white shark</td>\n",
       "      <td>2018.0</td>\n",
       "      <td>6.0</td>\n",
       "    </tr>\n",
       "    <tr>\n",
       "      <th>1</th>\n",
       "      <td>2018.06.18</td>\n",
       "      <td>18-Jun-2018</td>\n",
       "      <td>2018.0</td>\n",
       "      <td>Unprovoked</td>\n",
       "      <td>USA</td>\n",
       "      <td>Georgia</td>\n",
       "      <td>St. Simon Island, Glynn County</td>\n",
       "      <td>Standing</td>\n",
       "      <td>Adyson McNeely</td>\n",
       "      <td>F</td>\n",
       "      <td>11</td>\n",
       "      <td>Minor injury to left thigh</td>\n",
       "      <td>N</td>\n",
       "      <td>14h00  -15h00</td>\n",
       "      <td>NaN</td>\n",
       "      <td>2018.0</td>\n",
       "      <td>6.0</td>\n",
       "    </tr>\n",
       "    <tr>\n",
       "      <th>2</th>\n",
       "      <td>2018.06.09</td>\n",
       "      <td>09-Jun-2018</td>\n",
       "      <td>2018.0</td>\n",
       "      <td>Invalid</td>\n",
       "      <td>USA</td>\n",
       "      <td>Hawaii</td>\n",
       "      <td>Habush, Oahu</td>\n",
       "      <td>Surfing</td>\n",
       "      <td>John Denges</td>\n",
       "      <td>M</td>\n",
       "      <td>48</td>\n",
       "      <td>Injury to left lower leg from surfboard skeg</td>\n",
       "      <td>N</td>\n",
       "      <td>07h45</td>\n",
       "      <td>NaN</td>\n",
       "      <td>2018.0</td>\n",
       "      <td>6.0</td>\n",
       "    </tr>\n",
       "    <tr>\n",
       "      <th>3</th>\n",
       "      <td>2018.06.08</td>\n",
       "      <td>08-Jun-2018</td>\n",
       "      <td>2018.0</td>\n",
       "      <td>Unprovoked</td>\n",
       "      <td>AUSTRALIA</td>\n",
       "      <td>New South Wales</td>\n",
       "      <td>Arrawarra Headland</td>\n",
       "      <td>Surfing</td>\n",
       "      <td>male</td>\n",
       "      <td>M</td>\n",
       "      <td>NaN</td>\n",
       "      <td>Minor injury to lower leg</td>\n",
       "      <td>N</td>\n",
       "      <td>NaN</td>\n",
       "      <td>2 m shark</td>\n",
       "      <td>2018.0</td>\n",
       "      <td>6.0</td>\n",
       "    </tr>\n",
       "    <tr>\n",
       "      <th>4</th>\n",
       "      <td>2018.06.04</td>\n",
       "      <td>04-Jun-2018</td>\n",
       "      <td>2018.0</td>\n",
       "      <td>Provoked</td>\n",
       "      <td>MEXICO</td>\n",
       "      <td>Colima</td>\n",
       "      <td>La Ticla</td>\n",
       "      <td>Free diving</td>\n",
       "      <td>Gustavo Ramos</td>\n",
       "      <td>M</td>\n",
       "      <td>NaN</td>\n",
       "      <td>Lacerations to leg &amp; hand shark PROVOKED INCIDENT</td>\n",
       "      <td>N</td>\n",
       "      <td>NaN</td>\n",
       "      <td>tiger shark, 3m</td>\n",
       "      <td>2018.0</td>\n",
       "      <td>6.0</td>\n",
       "    </tr>\n",
       "  </tbody>\n",
       "</table>\n",
       "</div>"
      ],
      "text/plain": [
       "  Case Number         Date    Year        Type    Country             Area                        Location     Activity             Name Sex   Age                                             Injury Fatal (Y/N)           Time         Species   Year_extracted  Month_extracted\n",
       "0  2018.06.25  25-Jun-2018  2018.0     Boating        USA       California     Oceanside, San Diego County     Paddling      Julie Wolfe    F   57  No injury to occupant, outrigger canoe and pad...           N          18h00      white shark          2018.0              6.0\n",
       "1  2018.06.18  18-Jun-2018  2018.0  Unprovoked        USA          Georgia  St. Simon Island, Glynn County     Standing  Adyson McNeely     F   11                         Minor injury to left thigh           N  14h00  -15h00              NaN          2018.0              6.0\n",
       "2  2018.06.09  09-Jun-2018  2018.0     Invalid        USA           Hawaii                    Habush, Oahu      Surfing      John Denges    M   48       Injury to left lower leg from surfboard skeg           N          07h45              NaN          2018.0              6.0\n",
       "3  2018.06.08  08-Jun-2018  2018.0  Unprovoked  AUSTRALIA  New South Wales              Arrawarra Headland      Surfing             male    M  NaN                          Minor injury to lower leg           N            NaN        2 m shark          2018.0              6.0\n",
       "4  2018.06.04  04-Jun-2018  2018.0    Provoked     MEXICO           Colima                        La Ticla  Free diving   Gustavo Ramos     M  NaN  Lacerations to leg & hand shark PROVOKED INCIDENT           N            NaN  tiger shark, 3m          2018.0              6.0"
      ]
     },
     "execution_count": 33,
     "metadata": {},
     "output_type": "execute_result"
    }
   ],
   "source": [
    "pd.set_option('display.expand_frame_repr', False)\n",
    "sharks_df.head()"
   ]
  },
  {
   "cell_type": "code",
   "execution_count": 4,
   "id": "b5a74213",
   "metadata": {
    "scrolled": true
   },
   "outputs": [
    {
     "data": {
      "text/plain": [
       "(25723, 24)"
      ]
     },
     "execution_count": 4,
     "metadata": {},
     "output_type": "execute_result"
    }
   ],
   "source": [
    "sharks_df.shape"
   ]
  },
  {
   "cell_type": "code",
   "execution_count": 5,
   "id": "b95e780b",
   "metadata": {},
   "outputs": [],
   "source": [
    "# Dropping non-informative columns\n",
    "\n",
    "sharks_df.drop(columns=[\"pdf\", \"href formula\", \"href\", \"Case Number.1\", \"Case Number.2\", \"original order\", \"Investigator or Source\", \"Unnamed: 22\",\"Unnamed: 23\"], inplace=True)"
   ]
  },
  {
   "cell_type": "code",
   "execution_count": 6,
   "id": "f56380dd",
   "metadata": {},
   "outputs": [],
   "source": [
    "# Dropping the duplicates\n",
    "\n",
    "sharks_df.drop_duplicates(keep='first', inplace=True)"
   ]
  },
  {
   "cell_type": "code",
   "execution_count": 7,
   "id": "4d470b62",
   "metadata": {},
   "outputs": [
    {
     "data": {
      "text/plain": [
       "(6305, 15)"
      ]
     },
     "execution_count": 7,
     "metadata": {},
     "output_type": "execute_result"
    }
   ],
   "source": [
    "# Only 6312 shark attack records remain\n",
    "\n",
    "sharks_df.shape"
   ]
  },
  {
   "cell_type": "code",
   "execution_count": 8,
   "id": "0922eb8d",
   "metadata": {
    "scrolled": true
   },
   "outputs": [
    {
     "data": {
      "text/plain": [
       "['Case Number',\n",
       " 'Date',\n",
       " 'Year',\n",
       " 'Type',\n",
       " 'Country',\n",
       " 'Area',\n",
       " 'Location',\n",
       " 'Activity',\n",
       " 'Name',\n",
       " 'Sex ',\n",
       " 'Age',\n",
       " 'Injury',\n",
       " 'Fatal (Y/N)',\n",
       " 'Time',\n",
       " 'Species ']"
      ]
     },
     "execution_count": 8,
     "metadata": {},
     "output_type": "execute_result"
    }
   ],
   "source": [
    "# Un poquito para ver que columnas hay\n",
    "columnas = [column for column in sharks_df.columns]\n",
    "columnas"
   ]
  },
  {
   "cell_type": "code",
   "execution_count": 9,
   "id": "e891e4fb",
   "metadata": {},
   "outputs": [
    {
     "data": {
      "text/plain": [
       "'1951'"
      ]
     },
     "execution_count": 9,
     "metadata": {},
     "output_type": "execute_result"
    }
   ],
   "source": [
    "sharks_df[\"Case Number\"].str.extract(\"(\\d{4})\\.(\\d{2})\").at[4427, 0]\n"
   ]
  },
  {
   "cell_type": "code",
   "execution_count": 10,
   "id": "8cb11515",
   "metadata": {},
   "outputs": [
    {
     "data": {
      "text/plain": [
       "'11'"
      ]
     },
     "execution_count": 10,
     "metadata": {},
     "output_type": "execute_result"
    }
   ],
   "source": [
    "sharks_df[\"Case Number\"].str.extract(\"(\\d{4})\\.(\\d{2})\").at[4427, 1]"
   ]
  },
  {
   "cell_type": "code",
   "execution_count": 11,
   "id": "7bc297bd",
   "metadata": {},
   "outputs": [],
   "source": [
    "# Get Month and Year from \"Case Number\"\n",
    "\n",
    "sharks_df[\"Year_extracted\"] = sharks_df[\"Case Number\"].str.extract(\"(\\d{4})\\.(\\d{2})\")[0]\n",
    "sharks_df[\"Month_extracted\"] = sharks_df[\"Case Number\"].str.extract(\"(\\d{4})\\.(\\d{2})\")[1]\n",
    "\n",
    "\n",
    "sharks_df[\"Month_extracted\"] = sharks_df[\"Month_extracted\"].apply(lambda month: np.nan if month == \"00\" else month)\n",
    "sharks_df[\"Month_extracted\"] = sharks_df[\"Month_extracted\"].apply(lambda month: np.nan if pd.isnull(month) else np.int64(month))\n",
    "\n",
    "sharks_df[\"Year_extracted\"] = sharks_df[\"Year_extracted\"].apply(lambda year: np.nan if year == \"0000\" else year)\n",
    "sharks_df[\"Year_extracted\"] = sharks_df[\"Year_extracted\"].apply(lambda year: np.nan if pd.isnull(year) else np.int64(year))"
   ]
  },
  {
   "cell_type": "code",
   "execution_count": 12,
   "id": "4ce8cfab",
   "metadata": {},
   "outputs": [
    {
     "data": {
      "text/plain": [
       "USA                      2229\n",
       "AUSTRALIA                1338\n",
       "SOUTH AFRICA              579\n",
       "PAPUA NEW GUINEA          134\n",
       "NEW ZEALAND               128\n",
       "                         ... \n",
       "THE BALKANS                 1\n",
       "NORTH ATLANTIC OCEAN        1\n",
       "MAYOTTE                     1\n",
       "GABON                       1\n",
       "CEYLON (SRI LANKA)          1\n",
       "Name: Country, Length: 213, dtype: int64"
      ]
     },
     "execution_count": 12,
     "metadata": {},
     "output_type": "execute_result"
    }
   ],
   "source": [
    "# Cleaning \"Country\"\n",
    "\n",
    "sharks_df[\"Country\"].value_counts(dropna=False)"
   ]
  },
  {
   "cell_type": "code",
   "execution_count": 13,
   "id": "1fcf8e62",
   "metadata": {},
   "outputs": [],
   "source": [
    "# Attempts to cast Year column into Int64\n",
    "#sharks_df[\"Year\"] = sharks_df[\"Year\"].astype('Int64')\n",
    "#sharks_df[\"Year\"] = sharks_df[\"Year\"].apply(lambda year: year if pd.isnull(year) else np.int_(year))\n",
    "#sharks_df[\"Year\"] = sharks_df[\"Year\"].astype('Int64')"
   ]
  },
  {
   "cell_type": "code",
   "execution_count": 14,
   "id": "4a9bf189",
   "metadata": {},
   "outputs": [],
   "source": [
    "# Cleaning column \"Fatal (Y/N)\"\n",
    "values_OK_fatal = [\"N\", \"Y\", np.nan, \"UNKNOWN\"]\n",
    "sharks_df[\"Fatal (Y/N)\"] = sharks_df[\"Fatal (Y/N)\"].apply(lambda string: string if pd.isnull(string) else string.strip().upper())\n",
    "sharks_df[\"Fatal (Y/N)\"] = sharks_df[\"Fatal (Y/N)\"].apply(lambda value: value if value in values_OK_fatal else np.nan)"
   ]
  },
  {
   "cell_type": "code",
   "execution_count": 15,
   "id": "94b80f5f",
   "metadata": {},
   "outputs": [],
   "source": [
    "# Cleaning column \"Sex \"\n",
    "sharks_df[\"Sex \"] = sharks_df[\"Sex \"].apply(lambda string: string if pd.isnull(string) else string.strip().upper())\n",
    "\n",
    "# values_OK_sex = [\"M\", \"F\", np.nan]\n",
    "# sharks_df[sharks_df[\"Sex \"].apply(lambda value: True if value not in values_OK_sex else False)]\n",
    "\n",
    "sharks_df.at[1624, \"Sex \"] = \"M\"\n",
    "sharks_df.at[4938, \"Sex \"] = np.nan\n",
    "sharks_df.at[5437, \"Sex \"] = np.nan\n",
    "sharks_df.at[6131, \"Sex \"] = \"M\""
   ]
  },
  {
   "cell_type": "code",
   "execution_count": 36,
   "id": "7696ff7e",
   "metadata": {},
   "outputs": [
    {
     "data": {
      "text/plain": [
       "Sex   Year_extracted\n",
       "M     2015.0            114\n",
       "      2011.0            109\n",
       "      NaN               107\n",
       "      2016.0            105\n",
       "      2008.0            103\n",
       "                       ... \n",
       "NaN   1617.0              1\n",
       "      1637.0              1\n",
       "      1733.0              1\n",
       "      1776.0              1\n",
       "F     1791.0              1\n",
       "Length: 495, dtype: int64"
      ]
     },
     "metadata": {},
     "output_type": "display_data"
    }
   ],
   "source": [
    "display(sharks_df[[\"Sex \", \"Year_extracted\"]].value_counts(dropna=False))"
   ]
  },
  {
   "cell_type": "code",
   "execution_count": 16,
   "id": "4a4b9101",
   "metadata": {
    "scrolled": false
   },
   "outputs": [],
   "source": [
    "# Cleaning column \"Age\"\n",
    "sharks_df[\"Age\"] = sharks_df[\"Age\"].str.extract(\"(\\d{1,2})\")"
   ]
  },
  {
   "cell_type": "code",
   "execution_count": 17,
   "id": "597922e5",
   "metadata": {},
   "outputs": [],
   "source": [
    "# Cleaning column \"Species \"\n",
    "sharks_df[\"Species \"] = sharks_df[\"Species \"].apply(lambda string: string if pd.isnull(string) else string.strip().lower())"
   ]
  },
  {
   "cell_type": "code",
   "execution_count": 18,
   "id": "fa66a863",
   "metadata": {},
   "outputs": [],
   "source": [
    "#sharks_df[\"Species \"].value_counts(dropna=False).to_csv(\"./Species.csv\", index=True)"
   ]
  },
  {
   "cell_type": "code",
   "execution_count": 19,
   "id": "877c3d21",
   "metadata": {},
   "outputs": [],
   "source": [
    "species_list = pd.read_csv(\"./data/shark_species_clean.csv\")"
   ]
  },
  {
   "cell_type": "code",
   "execution_count": 20,
   "id": "856a2906",
   "metadata": {},
   "outputs": [],
   "source": [
    "# New DataFrame containing only the rows where species is informed\n",
    "sharks_df_with_species = sharks_df[sharks_df['Species '].notna()]"
   ]
  },
  {
   "cell_type": "code",
   "execution_count": 21,
   "id": "6e54abcc",
   "metadata": {
    "scrolled": true
   },
   "outputs": [],
   "source": [
    "# Removing rows where the species field contains \"no shark\" or \"nor confirmed\"\n",
    "sharks_df_with_species = sharks_df_with_species[~sharks_df_with_species[\"Species \"].str.contains(\"no shark\", regex=False)]\n",
    "sharks_df_with_species = sharks_df_with_species[~sharks_df_with_species[\"Species \"].str.contains(\"not confirmed\", regex=False)]"
   ]
  },
  {
   "cell_type": "code",
   "execution_count": 22,
   "id": "cc216d64",
   "metadata": {
    "scrolled": true
   },
   "outputs": [
    {
     "data": {
      "text/html": [
       "<div>\n",
       "<style scoped>\n",
       "    .dataframe tbody tr th:only-of-type {\n",
       "        vertical-align: middle;\n",
       "    }\n",
       "\n",
       "    .dataframe tbody tr th {\n",
       "        vertical-align: top;\n",
       "    }\n",
       "\n",
       "    .dataframe thead th {\n",
       "        text-align: right;\n",
       "    }\n",
       "</style>\n",
       "<table border=\"1\" class=\"dataframe\">\n",
       "  <thead>\n",
       "    <tr style=\"text-align: right;\">\n",
       "      <th></th>\n",
       "      <th>Case Number</th>\n",
       "      <th>Date</th>\n",
       "      <th>Year</th>\n",
       "      <th>Type</th>\n",
       "      <th>Country</th>\n",
       "      <th>Area</th>\n",
       "      <th>Location</th>\n",
       "      <th>Activity</th>\n",
       "      <th>Name</th>\n",
       "      <th>Sex</th>\n",
       "      <th>Age</th>\n",
       "      <th>Injury</th>\n",
       "      <th>Fatal (Y/N)</th>\n",
       "      <th>Time</th>\n",
       "      <th>Species</th>\n",
       "      <th>Year_extracted</th>\n",
       "      <th>Month_extracted</th>\n",
       "    </tr>\n",
       "  </thead>\n",
       "  <tbody>\n",
       "    <tr>\n",
       "      <th>632</th>\n",
       "      <td>2013.08.31.a</td>\n",
       "      <td>31-Aug-2013</td>\n",
       "      <td>2013.0</td>\n",
       "      <td>Unprovoked</td>\n",
       "      <td>USA</td>\n",
       "      <td>California</td>\n",
       "      <td>Butterfly Beach, Montecito, Santa Barbara County</td>\n",
       "      <td>Swimming</td>\n",
       "      <td>Nick Kennedy</td>\n",
       "      <td>M</td>\n",
       "      <td>NaN</td>\n",
       "      <td>Foot bitten</td>\n",
       "      <td>N</td>\n",
       "      <td>23h00</td>\n",
       "      <td>salmon shark</td>\n",
       "      <td>2013.0</td>\n",
       "      <td>8.0</td>\n",
       "    </tr>\n",
       "    <tr>\n",
       "      <th>764</th>\n",
       "      <td>2012.07.19</td>\n",
       "      <td>19-Jul-2012</td>\n",
       "      <td>2012.0</td>\n",
       "      <td>Invalid</td>\n",
       "      <td>CANADA</td>\n",
       "      <td>British Colombia</td>\n",
       "      <td>Tofino, Vancouver</td>\n",
       "      <td>Surfing</td>\n",
       "      <td>Kaitlin Dakers</td>\n",
       "      <td>F</td>\n",
       "      <td>23</td>\n",
       "      <td>Lacerations to 2 fingers, but shark involvemen...</td>\n",
       "      <td>NaN</td>\n",
       "      <td>NaN</td>\n",
       "      <td>salmon shark suspected, but unlikely</td>\n",
       "      <td>2012.0</td>\n",
       "      <td>7.0</td>\n",
       "    </tr>\n",
       "    <tr>\n",
       "      <th>2020</th>\n",
       "      <td>2000.08.27.R</td>\n",
       "      <td>Reported 27-Aug-2000</td>\n",
       "      <td>2000.0</td>\n",
       "      <td>Provoked</td>\n",
       "      <td>USA</td>\n",
       "      <td>Alaska</td>\n",
       "      <td>Prince William Sound</td>\n",
       "      <td>Conducting research</td>\n",
       "      <td>Bruce Wright</td>\n",
       "      <td>M</td>\n",
       "      <td>NaN</td>\n",
       "      <td>Leg bitten by netted shark PROVOKED INCIDENT</td>\n",
       "      <td>N</td>\n",
       "      <td>NaN</td>\n",
       "      <td>salmon shark</td>\n",
       "      <td>2000.0</td>\n",
       "      <td>8.0</td>\n",
       "    </tr>\n",
       "  </tbody>\n",
       "</table>\n",
       "</div>"
      ],
      "text/plain": [
       "       Case Number                  Date    Year        Type Country              Area                                          Location             Activity            Name Sex   Age                                             Injury Fatal (Y/N)   Time                              Species   Year_extracted  Month_extracted\n",
       "632   2013.08.31.a           31-Aug-2013  2013.0  Unprovoked     USA        California  Butterfly Beach, Montecito, Santa Barbara County             Swimming    Nick Kennedy    M  NaN                                        Foot bitten           N  23h00                          salmon shark          2013.0              8.0\n",
       "764     2012.07.19           19-Jul-2012  2012.0     Invalid  CANADA  British Colombia                                 Tofino, Vancouver              Surfing  Kaitlin Dakers    F   23  Lacerations to 2 fingers, but shark involvemen...         NaN    NaN  salmon shark suspected, but unlikely          2012.0              7.0\n",
       "2020  2000.08.27.R  Reported 27-Aug-2000  2000.0    Provoked     USA            Alaska                              Prince William Sound  Conducting research    Bruce Wright    M  NaN       Leg bitten by netted shark PROVOKED INCIDENT           N    NaN                          salmon shark          2000.0              8.0"
      ]
     },
     "execution_count": 22,
     "metadata": {},
     "output_type": "execute_result"
    }
   ],
   "source": [
    "sharks_df_with_species[sharks_df_with_species[\"Species \"].str.contains(species_list.at[845, \"Species_list\"], regex=False)]"
   ]
  },
  {
   "cell_type": "code",
   "execution_count": 23,
   "id": "5efd45c3",
   "metadata": {},
   "outputs": [],
   "source": [
    "sharks_df_with_species[\"Real_Species\"] = np.nan"
   ]
  },
  {
   "cell_type": "code",
   "execution_count": 24,
   "id": "f070635e",
   "metadata": {},
   "outputs": [],
   "source": [
    "def species_finder(species_column_value):\n",
    "    for shark in species_list[\"Species_list\"]:\n",
    "        if shark in species_column_value:\n",
    "            return shark\n",
    "    return np.nan"
   ]
  },
  {
   "cell_type": "code",
   "execution_count": 25,
   "id": "5b31f9a1",
   "metadata": {},
   "outputs": [],
   "source": [
    "sharks_df_with_species[\"Real_Species\"] = sharks_df_with_species[\"Species \"].apply(species_finder)"
   ]
  },
  {
   "cell_type": "code",
   "execution_count": 26,
   "id": "2cec0128",
   "metadata": {},
   "outputs": [],
   "source": [
    "with open('./data/shark_dict.pickle', 'rb') as handle:\n",
    "    shark_dict = pickle.load(handle)"
   ]
  },
  {
   "cell_type": "code",
   "execution_count": 27,
   "id": "3688449c",
   "metadata": {},
   "outputs": [],
   "source": [
    "# Applying the dictionary to complete the name of some incomplete species\n",
    "sharks_df_with_species[\"Real_Species\"] = sharks_df_with_species[\"Real_Species\"].apply(lambda species: shark_dict[species] if species in shark_dict.keys() else species)"
   ]
  },
  {
   "cell_type": "code",
   "execution_count": 28,
   "id": "c3882061",
   "metadata": {
    "scrolled": false
   },
   "outputs": [
    {
     "data": {
      "text/html": [
       "<div>\n",
       "<style scoped>\n",
       "    .dataframe tbody tr th:only-of-type {\n",
       "        vertical-align: middle;\n",
       "    }\n",
       "\n",
       "    .dataframe tbody tr th {\n",
       "        vertical-align: top;\n",
       "    }\n",
       "\n",
       "    .dataframe thead th {\n",
       "        text-align: right;\n",
       "    }\n",
       "</style>\n",
       "<table border=\"1\" class=\"dataframe\">\n",
       "  <thead>\n",
       "    <tr style=\"text-align: right;\">\n",
       "      <th>Fatal (Y/N)</th>\n",
       "      <th>Non Fatal</th>\n",
       "      <th>Fatal</th>\n",
       "      <th>Total</th>\n",
       "      <th>Fatality_ratio_%</th>\n",
       "    </tr>\n",
       "    <tr>\n",
       "      <th>Real_Species</th>\n",
       "      <th></th>\n",
       "      <th></th>\n",
       "      <th></th>\n",
       "      <th></th>\n",
       "    </tr>\n",
       "  </thead>\n",
       "  <tbody>\n",
       "    <tr>\n",
       "      <th>Angel Shark</th>\n",
       "      <td>6.0</td>\n",
       "      <td>0.0</td>\n",
       "      <td>6.0</td>\n",
       "      <td>0.00</td>\n",
       "    </tr>\n",
       "    <tr>\n",
       "      <th>Basking Shark</th>\n",
       "      <td>5.0</td>\n",
       "      <td>2.0</td>\n",
       "      <td>7.0</td>\n",
       "      <td>28.57</td>\n",
       "    </tr>\n",
       "    <tr>\n",
       "      <th>Blacktail Reef Shark</th>\n",
       "      <td>1.0</td>\n",
       "      <td>0.0</td>\n",
       "      <td>1.0</td>\n",
       "      <td>0.00</td>\n",
       "    </tr>\n",
       "    <tr>\n",
       "      <th>Blacktip Reef Shark</th>\n",
       "      <td>10.0</td>\n",
       "      <td>0.0</td>\n",
       "      <td>10.0</td>\n",
       "      <td>0.00</td>\n",
       "    </tr>\n",
       "    <tr>\n",
       "      <th>Blacktip Shark</th>\n",
       "      <td>67.0</td>\n",
       "      <td>0.0</td>\n",
       "      <td>67.0</td>\n",
       "      <td>0.00</td>\n",
       "    </tr>\n",
       "    <tr>\n",
       "      <th>Blind Shark</th>\n",
       "      <td>1.0</td>\n",
       "      <td>0.0</td>\n",
       "      <td>1.0</td>\n",
       "      <td>0.00</td>\n",
       "    </tr>\n",
       "    <tr>\n",
       "      <th>Blue Shark</th>\n",
       "      <td>43.0</td>\n",
       "      <td>12.0</td>\n",
       "      <td>55.0</td>\n",
       "      <td>21.82</td>\n",
       "    </tr>\n",
       "    <tr>\n",
       "      <th>Broadnose Sevengill Shark</th>\n",
       "      <td>2.0</td>\n",
       "      <td>0.0</td>\n",
       "      <td>2.0</td>\n",
       "      <td>0.00</td>\n",
       "    </tr>\n",
       "    <tr>\n",
       "      <th>Bronze Whaler Shark</th>\n",
       "      <td>55.0</td>\n",
       "      <td>4.0</td>\n",
       "      <td>59.0</td>\n",
       "      <td>6.78</td>\n",
       "    </tr>\n",
       "    <tr>\n",
       "      <th>Bull Shark</th>\n",
       "      <td>159.0</td>\n",
       "      <td>48.0</td>\n",
       "      <td>207.0</td>\n",
       "      <td>23.19</td>\n",
       "    </tr>\n",
       "    <tr>\n",
       "      <th>Caribbean Reef Shark</th>\n",
       "      <td>16.0</td>\n",
       "      <td>0.0</td>\n",
       "      <td>16.0</td>\n",
       "      <td>0.00</td>\n",
       "    </tr>\n",
       "    <tr>\n",
       "      <th>Carpet Shark</th>\n",
       "      <td>8.0</td>\n",
       "      <td>0.0</td>\n",
       "      <td>8.0</td>\n",
       "      <td>0.00</td>\n",
       "    </tr>\n",
       "    <tr>\n",
       "      <th>Catshark</th>\n",
       "      <td>3.0</td>\n",
       "      <td>0.0</td>\n",
       "      <td>3.0</td>\n",
       "      <td>0.00</td>\n",
       "    </tr>\n",
       "    <tr>\n",
       "      <th>Cookiecutter Shark</th>\n",
       "      <td>1.0</td>\n",
       "      <td>0.0</td>\n",
       "      <td>1.0</td>\n",
       "      <td>0.00</td>\n",
       "    </tr>\n",
       "    <tr>\n",
       "      <th>Copper Shark</th>\n",
       "      <td>5.0</td>\n",
       "      <td>0.0</td>\n",
       "      <td>5.0</td>\n",
       "      <td>0.00</td>\n",
       "    </tr>\n",
       "    <tr>\n",
       "      <th>Cow Shark</th>\n",
       "      <td>2.0</td>\n",
       "      <td>0.0</td>\n",
       "      <td>2.0</td>\n",
       "      <td>0.00</td>\n",
       "    </tr>\n",
       "    <tr>\n",
       "      <th>Dogfish Shark</th>\n",
       "      <td>3.0</td>\n",
       "      <td>0.0</td>\n",
       "      <td>3.0</td>\n",
       "      <td>0.00</td>\n",
       "    </tr>\n",
       "    <tr>\n",
       "      <th>Dusky Shark</th>\n",
       "      <td>13.0</td>\n",
       "      <td>0.0</td>\n",
       "      <td>13.0</td>\n",
       "      <td>0.00</td>\n",
       "    </tr>\n",
       "    <tr>\n",
       "      <th>Gaffed Shark</th>\n",
       "      <td>1.0</td>\n",
       "      <td>0.0</td>\n",
       "      <td>1.0</td>\n",
       "      <td>0.00</td>\n",
       "    </tr>\n",
       "    <tr>\n",
       "      <th>Galapagos Shark</th>\n",
       "      <td>5.0</td>\n",
       "      <td>2.0</td>\n",
       "      <td>7.0</td>\n",
       "      <td>28.57</td>\n",
       "    </tr>\n",
       "    <tr>\n",
       "      <th>Goblin Shark</th>\n",
       "      <td>1.0</td>\n",
       "      <td>0.0</td>\n",
       "      <td>1.0</td>\n",
       "      <td>0.00</td>\n",
       "    </tr>\n",
       "    <tr>\n",
       "      <th>Great Hammerhead</th>\n",
       "      <td>1.0</td>\n",
       "      <td>0.0</td>\n",
       "      <td>1.0</td>\n",
       "      <td>0.00</td>\n",
       "    </tr>\n",
       "    <tr>\n",
       "      <th>Grey Reef Shark</th>\n",
       "      <td>16.0</td>\n",
       "      <td>0.0</td>\n",
       "      <td>16.0</td>\n",
       "      <td>0.00</td>\n",
       "    </tr>\n",
       "    <tr>\n",
       "      <th>Gummy Shark</th>\n",
       "      <td>1.0</td>\n",
       "      <td>0.0</td>\n",
       "      <td>1.0</td>\n",
       "      <td>0.00</td>\n",
       "    </tr>\n",
       "    <tr>\n",
       "      <th>Hammerhead Shark</th>\n",
       "      <td>44.0</td>\n",
       "      <td>2.0</td>\n",
       "      <td>46.0</td>\n",
       "      <td>4.35</td>\n",
       "    </tr>\n",
       "    <tr>\n",
       "      <th>Horn Shark</th>\n",
       "      <td>1.0</td>\n",
       "      <td>0.0</td>\n",
       "      <td>1.0</td>\n",
       "      <td>0.00</td>\n",
       "    </tr>\n",
       "    <tr>\n",
       "      <th>Lemon Shark</th>\n",
       "      <td>36.0</td>\n",
       "      <td>0.0</td>\n",
       "      <td>36.0</td>\n",
       "      <td>0.00</td>\n",
       "    </tr>\n",
       "    <tr>\n",
       "      <th>Leopard Shark</th>\n",
       "      <td>3.0</td>\n",
       "      <td>0.0</td>\n",
       "      <td>3.0</td>\n",
       "      <td>0.00</td>\n",
       "    </tr>\n",
       "    <tr>\n",
       "      <th>Longfin Mako</th>\n",
       "      <td>1.0</td>\n",
       "      <td>0.0</td>\n",
       "      <td>1.0</td>\n",
       "      <td>0.00</td>\n",
       "    </tr>\n",
       "    <tr>\n",
       "      <th>Mako Shark</th>\n",
       "      <td>46.0</td>\n",
       "      <td>2.0</td>\n",
       "      <td>48.0</td>\n",
       "      <td>4.17</td>\n",
       "    </tr>\n",
       "    <tr>\n",
       "      <th>Nurse Shark</th>\n",
       "      <td>95.0</td>\n",
       "      <td>1.0</td>\n",
       "      <td>96.0</td>\n",
       "      <td>1.04</td>\n",
       "    </tr>\n",
       "    <tr>\n",
       "      <th>Oceanic Whitetip Shark</th>\n",
       "      <td>20.0</td>\n",
       "      <td>6.0</td>\n",
       "      <td>26.0</td>\n",
       "      <td>23.08</td>\n",
       "    </tr>\n",
       "    <tr>\n",
       "      <th>Porbeagle Shark</th>\n",
       "      <td>8.0</td>\n",
       "      <td>0.0</td>\n",
       "      <td>8.0</td>\n",
       "      <td>0.00</td>\n",
       "    </tr>\n",
       "    <tr>\n",
       "      <th>Port Jackson Shark</th>\n",
       "      <td>1.0</td>\n",
       "      <td>0.0</td>\n",
       "      <td>1.0</td>\n",
       "      <td>0.00</td>\n",
       "    </tr>\n",
       "    <tr>\n",
       "      <th>Raggedtooth Shark</th>\n",
       "      <td>43.0</td>\n",
       "      <td>0.0</td>\n",
       "      <td>43.0</td>\n",
       "      <td>0.00</td>\n",
       "    </tr>\n",
       "    <tr>\n",
       "      <th>Reef Shark</th>\n",
       "      <td>18.0</td>\n",
       "      <td>0.0</td>\n",
       "      <td>18.0</td>\n",
       "      <td>0.00</td>\n",
       "    </tr>\n",
       "    <tr>\n",
       "      <th>Salmon Shark</th>\n",
       "      <td>2.0</td>\n",
       "      <td>0.0</td>\n",
       "      <td>2.0</td>\n",
       "      <td>0.00</td>\n",
       "    </tr>\n",
       "    <tr>\n",
       "      <th>Sand Shark</th>\n",
       "      <td>19.0</td>\n",
       "      <td>0.0</td>\n",
       "      <td>19.0</td>\n",
       "      <td>0.00</td>\n",
       "    </tr>\n",
       "    <tr>\n",
       "      <th>Sandbar Shark</th>\n",
       "      <td>6.0</td>\n",
       "      <td>0.0</td>\n",
       "      <td>6.0</td>\n",
       "      <td>0.00</td>\n",
       "    </tr>\n",
       "    <tr>\n",
       "      <th>Sandtiger Shark</th>\n",
       "      <td>20.0</td>\n",
       "      <td>0.0</td>\n",
       "      <td>20.0</td>\n",
       "      <td>0.00</td>\n",
       "    </tr>\n",
       "    <tr>\n",
       "      <th>Scalloped Hammerhead</th>\n",
       "      <td>1.0</td>\n",
       "      <td>0.0</td>\n",
       "      <td>1.0</td>\n",
       "      <td>0.00</td>\n",
       "    </tr>\n",
       "    <tr>\n",
       "      <th>Seven-Gill Shark</th>\n",
       "      <td>2.0</td>\n",
       "      <td>0.0</td>\n",
       "      <td>2.0</td>\n",
       "      <td>0.00</td>\n",
       "    </tr>\n",
       "    <tr>\n",
       "      <th>Sevengill Shark</th>\n",
       "      <td>16.0</td>\n",
       "      <td>0.0</td>\n",
       "      <td>16.0</td>\n",
       "      <td>0.00</td>\n",
       "    </tr>\n",
       "    <tr>\n",
       "      <th>Shortfin Mako</th>\n",
       "      <td>4.0</td>\n",
       "      <td>0.0</td>\n",
       "      <td>4.0</td>\n",
       "      <td>0.00</td>\n",
       "    </tr>\n",
       "    <tr>\n",
       "      <th>Shovelnose Shark</th>\n",
       "      <td>2.0</td>\n",
       "      <td>0.0</td>\n",
       "      <td>2.0</td>\n",
       "      <td>0.00</td>\n",
       "    </tr>\n",
       "    <tr>\n",
       "      <th>Silky Shark</th>\n",
       "      <td>4.0</td>\n",
       "      <td>0.0</td>\n",
       "      <td>4.0</td>\n",
       "      <td>0.00</td>\n",
       "    </tr>\n",
       "    <tr>\n",
       "      <th>Silvertip Shark</th>\n",
       "      <td>2.0</td>\n",
       "      <td>0.0</td>\n",
       "      <td>2.0</td>\n",
       "      <td>0.00</td>\n",
       "    </tr>\n",
       "    <tr>\n",
       "      <th>Smooth Hound</th>\n",
       "      <td>1.0</td>\n",
       "      <td>0.0</td>\n",
       "      <td>1.0</td>\n",
       "      <td>0.00</td>\n",
       "    </tr>\n",
       "    <tr>\n",
       "      <th>Spinner Shark</th>\n",
       "      <td>43.0</td>\n",
       "      <td>0.0</td>\n",
       "      <td>43.0</td>\n",
       "      <td>0.00</td>\n",
       "    </tr>\n",
       "    <tr>\n",
       "      <th>Thresher Shark</th>\n",
       "      <td>5.0</td>\n",
       "      <td>0.0</td>\n",
       "      <td>5.0</td>\n",
       "      <td>0.00</td>\n",
       "    </tr>\n",
       "    <tr>\n",
       "      <th>Tiger Shark</th>\n",
       "      <td>186.0</td>\n",
       "      <td>69.0</td>\n",
       "      <td>255.0</td>\n",
       "      <td>27.06</td>\n",
       "    </tr>\n",
       "    <tr>\n",
       "      <th>Whale Shark</th>\n",
       "      <td>11.0</td>\n",
       "      <td>2.0</td>\n",
       "      <td>13.0</td>\n",
       "      <td>15.38</td>\n",
       "    </tr>\n",
       "    <tr>\n",
       "      <th>White Shark</th>\n",
       "      <td>475.0</td>\n",
       "      <td>143.0</td>\n",
       "      <td>618.0</td>\n",
       "      <td>23.14</td>\n",
       "    </tr>\n",
       "    <tr>\n",
       "      <th>Whitetip Reef Shark</th>\n",
       "      <td>4.0</td>\n",
       "      <td>0.0</td>\n",
       "      <td>4.0</td>\n",
       "      <td>0.00</td>\n",
       "    </tr>\n",
       "    <tr>\n",
       "      <th>Wobbegong Shark</th>\n",
       "      <td>49.0</td>\n",
       "      <td>0.0</td>\n",
       "      <td>49.0</td>\n",
       "      <td>0.00</td>\n",
       "    </tr>\n",
       "  </tbody>\n",
       "</table>\n",
       "</div>"
      ],
      "text/plain": [
       "Fatal (Y/N)                Non Fatal  Fatal  Total  Fatality_ratio_%\n",
       "Real_Species                                                        \n",
       "Angel Shark                      6.0    0.0    6.0              0.00\n",
       "Basking Shark                    5.0    2.0    7.0             28.57\n",
       "Blacktail Reef Shark             1.0    0.0    1.0              0.00\n",
       "Blacktip Reef Shark             10.0    0.0   10.0              0.00\n",
       "Blacktip Shark                  67.0    0.0   67.0              0.00\n",
       "Blind Shark                      1.0    0.0    1.0              0.00\n",
       "Blue Shark                      43.0   12.0   55.0             21.82\n",
       "Broadnose Sevengill Shark        2.0    0.0    2.0              0.00\n",
       "Bronze Whaler Shark             55.0    4.0   59.0              6.78\n",
       "Bull Shark                     159.0   48.0  207.0             23.19\n",
       "Caribbean Reef Shark            16.0    0.0   16.0              0.00\n",
       "Carpet Shark                     8.0    0.0    8.0              0.00\n",
       "Catshark                         3.0    0.0    3.0              0.00\n",
       "Cookiecutter Shark               1.0    0.0    1.0              0.00\n",
       "Copper Shark                     5.0    0.0    5.0              0.00\n",
       "Cow Shark                        2.0    0.0    2.0              0.00\n",
       "Dogfish Shark                    3.0    0.0    3.0              0.00\n",
       "Dusky Shark                     13.0    0.0   13.0              0.00\n",
       "Gaffed Shark                     1.0    0.0    1.0              0.00\n",
       "Galapagos Shark                  5.0    2.0    7.0             28.57\n",
       "Goblin Shark                     1.0    0.0    1.0              0.00\n",
       "Great Hammerhead                 1.0    0.0    1.0              0.00\n",
       "Grey Reef Shark                 16.0    0.0   16.0              0.00\n",
       "Gummy Shark                      1.0    0.0    1.0              0.00\n",
       "Hammerhead Shark                44.0    2.0   46.0              4.35\n",
       "Horn Shark                       1.0    0.0    1.0              0.00\n",
       "Lemon Shark                     36.0    0.0   36.0              0.00\n",
       "Leopard Shark                    3.0    0.0    3.0              0.00\n",
       "Longfin Mako                     1.0    0.0    1.0              0.00\n",
       "Mako Shark                      46.0    2.0   48.0              4.17\n",
       "Nurse Shark                     95.0    1.0   96.0              1.04\n",
       "Oceanic Whitetip Shark          20.0    6.0   26.0             23.08\n",
       "Porbeagle Shark                  8.0    0.0    8.0              0.00\n",
       "Port Jackson Shark               1.0    0.0    1.0              0.00\n",
       "Raggedtooth Shark               43.0    0.0   43.0              0.00\n",
       "Reef Shark                      18.0    0.0   18.0              0.00\n",
       "Salmon Shark                     2.0    0.0    2.0              0.00\n",
       "Sand Shark                      19.0    0.0   19.0              0.00\n",
       "Sandbar Shark                    6.0    0.0    6.0              0.00\n",
       "Sandtiger Shark                 20.0    0.0   20.0              0.00\n",
       "Scalloped Hammerhead             1.0    0.0    1.0              0.00\n",
       "Seven-Gill Shark                 2.0    0.0    2.0              0.00\n",
       "Sevengill Shark                 16.0    0.0   16.0              0.00\n",
       "Shortfin Mako                    4.0    0.0    4.0              0.00\n",
       "Shovelnose Shark                 2.0    0.0    2.0              0.00\n",
       "Silky Shark                      4.0    0.0    4.0              0.00\n",
       "Silvertip Shark                  2.0    0.0    2.0              0.00\n",
       "Smooth Hound                     1.0    0.0    1.0              0.00\n",
       "Spinner Shark                   43.0    0.0   43.0              0.00\n",
       "Thresher Shark                   5.0    0.0    5.0              0.00\n",
       "Tiger Shark                    186.0   69.0  255.0             27.06\n",
       "Whale Shark                     11.0    2.0   13.0             15.38\n",
       "White Shark                    475.0  143.0  618.0             23.14\n",
       "Whitetip Reef Shark              4.0    0.0    4.0              0.00\n",
       "Wobbegong Shark                 49.0    0.0   49.0              0.00"
      ]
     },
     "execution_count": 28,
     "metadata": {},
     "output_type": "execute_result"
    }
   ],
   "source": [
    "# DataFrame with \"Real_Species\"  and \"Fatal (Y/N)\" columns, dropping NaNs and \"UNKNOWN\" values in the Fatality column\n",
    "fatality_by_species = sharks_df_with_species[[\"Real_Species\", \"Fatal (Y/N)\"]].dropna(how=\"any\")\n",
    "fatality_by_species = fatality_by_species[fatality_by_species[\"Fatal (Y/N)\"] != \"UNKNOWN\"]\n",
    "fatality_by_species = fatality_by_species.value_counts().unstack()\n",
    "fatality_by_species[\"Y\"] = fatality_by_species[\"Y\"].fillna(0)\n",
    "fatality_by_species[\"Total\"] = fatality_by_species[\"N\"]+fatality_by_species[\"Y\"]\n",
    "fatality_by_species[\"Fatality_ratio_%\"] = (fatality_by_species[\"Y\"]/(fatality_by_species[\"Total\"])*100).round(decimals=2)\n",
    "fatality_by_species.reset_index(inplace=True)\n",
    "fatality_by_species.rename({\"N\": \"Non Fatal\", \"Y\": \"Fatal\"}, axis='columns',  inplace=True)\n",
    "fatality_by_species[\"Real_Species\"] = fatality_by_species[\"Real_Species\"].apply(lambda string: string if pd.isnull(string) else string.title())\n",
    "fatality_by_species.set_index(\"Real_Species\", inplace=True)\n",
    "fatality_by_species"
   ]
  },
  {
   "cell_type": "code",
   "execution_count": 29,
   "id": "3a3aaa22",
   "metadata": {
    "scrolled": false
   },
   "outputs": [],
   "source": [
    "# Keeping only species that have more than 20 attacks registered\n",
    "fatality_by_species = fatality_by_species[fatality_by_species[\"Total\"]>20].sort_values(by=\"Fatal\", ascending=False)"
   ]
  },
  {
   "cell_type": "code",
   "execution_count": 38,
   "id": "1a834f7a",
   "metadata": {},
   "outputs": [
    {
     "data": {
      "text/plain": [
       "<AxesSubplot:xlabel='Real_Species'>"
      ]
     },
     "execution_count": 38,
     "metadata": {},
     "output_type": "execute_result"
    },
    {
     "data": {
      "image/png": "[encoded data removed]",
      "text/plain": [
       "<Figure size 640x480 with 1 Axes>"
      ]
     },
     "metadata": {},
     "output_type": "display_data"
    }
   ],
   "source": [
    "# Total attacks by species\n",
    "fatality_by_species[[\"Non Fatal\", \"Fatal\"]].plot(kind=\"bar\", stacked=False)"
   ]
  },
  {
   "cell_type": "code",
   "execution_count": 31,
   "id": "520f3141",
   "metadata": {
    "scrolled": false
   },
   "outputs": [
    {
     "data": {
      "text/plain": [
       "Text(0.5, 1.0, '% of attacks that resulted in death')"
      ]
     },
     "execution_count": 31,
     "metadata": {},
     "output_type": "execute_result"
    },
    {
     "data": {
      "image/png": "[encoded data removed]",
      "text/plain": [
       "<Figure size 640x480 with 1 Axes>"
      ]
     },
     "metadata": {},
     "output_type": "display_data"
    }
   ],
   "source": [
    "# Most deadly sharks\n",
    "fatality_by_species[\"Fatality_ratio_%\"].sort_values(ascending=False).plot(kind=\"bar\")\n",
    "plt.ylabel(\"Fatality ratio in %\")\n",
    "plt.title(\"% of attacks that resulted in death\")"
   ]
  },
  {
   "cell_type": "code",
   "execution_count": 32,
   "id": "3010b4fa",
   "metadata": {},
   "outputs": [],
   "source": [
    "#sharks_df.to_csv(\"./Prueba.csv\", index=False)"
   ]
  }
 ],
 "metadata": {
  "kernelspec": {
   "display_name": "Python 3 (ipykernel)",
   "language": "python",
   "name": "python3"
  },
  "language_info": {
   "codemirror_mode": {
    "name": "ipython",
    "version": 3
   },
   "file_extension": ".py",
   "mimetype": "text/x-python",
   "name": "python",
   "nbconvert_exporter": "python",
   "pygments_lexer": "ipython3",
   "version": "3.9.13"
  }
 },
 "nbformat": 4,
 "nbformat_minor": 5
}
